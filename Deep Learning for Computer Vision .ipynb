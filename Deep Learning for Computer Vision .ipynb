{
  "cells": [
    {
      "cell_type": "markdown",
      "metadata": {
        "id": "view-in-github",
        "colab_type": "text"
      },
      "source": [
        "<a href=\"https://colab.research.google.com/github/hafezi1403/Hafezi.Video/blob/main/Deep%20Learning%20for%20Computer%20Vision%20.ipynb\" target=\"_parent\"><img src=\"https://colab.research.google.com/assets/colab-badge.svg\" alt=\"Open In Colab\"/></a>"
      ]
    },
    {
      "cell_type": "code",
      "execution_count": 1,
      "metadata": {
        "id": "yZM_Srv7wBHg"
      },
      "outputs": [],
      "source": [
        "import tensorflow as tf"
      ]
    },
    {
      "cell_type": "code",
      "source": [
        "tensor_zero_d=tf.constant(4)\n",
        "print(tensor_zero_d)"
      ],
      "metadata": {
        "colab": {
          "base_uri": "https://localhost:8080/"
        },
        "id": "IMKtNDsIh7XX",
        "outputId": "efe191e5-d6b3-4988-817f-36f7f549ad21"
      },
      "execution_count": 2,
      "outputs": [
        {
          "output_type": "stream",
          "name": "stdout",
          "text": [
            "tf.Tensor(4, shape=(), dtype=int32)\n"
          ]
        }
      ]
    },
    {
      "cell_type": "code",
      "source": [
        "tensor_one_d=tf.constant([2,-1,5,8,9],dtype=tf.float32)\n",
        "print(tensor_one_d )"
      ],
      "metadata": {
        "colab": {
          "base_uri": "https://localhost:8080/"
        },
        "id": "cGKwY0N2iCMN",
        "outputId": "672adada-d6b6-4aad-f9ae-f2937d18c172"
      },
      "execution_count": 3,
      "outputs": [
        {
          "output_type": "stream",
          "name": "stdout",
          "text": [
            "tf.Tensor([ 2. -1.  5.  8.  9.], shape=(5,), dtype=float32)\n"
          ]
        }
      ]
    },
    {
      "cell_type": "code",
      "source": [
        "tensor_two_d=tf.constant([\n",
        "    [2,4,-1],\n",
        "    [3,10,-9],\n",
        "    [3,10,-5],\n",
        "    [1,2,-4]\n",
        "    ])\n",
        "print(tensor_two_d)"
      ],
      "metadata": {
        "colab": {
          "base_uri": "https://localhost:8080/"
        },
        "id": "h7VOgEOZiDhd",
        "outputId": "27471309-a91c-4538-f561-57c70acf2c68"
      },
      "execution_count": 4,
      "outputs": [
        {
          "output_type": "stream",
          "name": "stdout",
          "text": [
            "tf.Tensor(\n",
            "[[ 2  4 -1]\n",
            " [ 3 10 -9]\n",
            " [ 3 10 -5]\n",
            " [ 1  2 -4]], shape=(4, 3), dtype=int32)\n"
          ]
        }
      ]
    },
    {
      "cell_type": "code",
      "source": [
        "tensor_three_d=tf.constant([\n",
        "    [[1,2,3],\n",
        "     [3,4,5]],\n",
        "    [[4,5,6],\n",
        "     [5,6,7]],\n",
        "    [[6,7,8],\n",
        "    [7,8,9]],\n",
        "])\n",
        "print(tensor_three_d)"
      ],
      "metadata": {
        "colab": {
          "base_uri": "https://localhost:8080/"
        },
        "id": "4h4YauZfiH9m",
        "outputId": "2454b71d-8222-492e-b515-a90e87fa7c03"
      },
      "execution_count": 5,
      "outputs": [
        {
          "output_type": "stream",
          "name": "stdout",
          "text": [
            "tf.Tensor(\n",
            "[[[1 2 3]\n",
            "  [3 4 5]]\n",
            "\n",
            " [[4 5 6]\n",
            "  [5 6 7]]\n",
            "\n",
            " [[6 7 8]\n",
            "  [7 8 9]]], shape=(3, 2, 3), dtype=int32)\n"
          ]
        }
      ]
    },
    {
      "cell_type": "code",
      "source": [
        "print(tensor_three_d.shape)"
      ],
      "metadata": {
        "colab": {
          "base_uri": "https://localhost:8080/"
        },
        "id": "x44fseCKiXnt",
        "outputId": "51c8a704-e0de-4672-bf98-79cd98536653"
      },
      "execution_count": 6,
      "outputs": [
        {
          "output_type": "stream",
          "name": "stdout",
          "text": [
            "(3, 2, 3)\n"
          ]
        }
      ]
    },
    {
      "cell_type": "code",
      "source": [
        "print(tensor_three_d.ndim)"
      ],
      "metadata": {
        "colab": {
          "base_uri": "https://localhost:8080/"
        },
        "id": "Rj6uoG26iZYK",
        "outputId": "65f1e454-bd32-4e02-e12c-fd89ced66ce7"
      },
      "execution_count": 7,
      "outputs": [
        {
          "output_type": "stream",
          "name": "stdout",
          "text": [
            "3\n"
          ]
        }
      ]
    },
    {
      "cell_type": "code",
      "source": [
        "tensor_four_d = tf.constant([\n",
        "[\n",
        "    [[1,2,3],\n",
        "     [3,4,5]],\n",
        "    [[4,5,6],\n",
        "     [5,6,7]],\n",
        "    [[6,7,8],\n",
        "    [7,8,9]],],\n",
        "\n",
        "  [\n",
        "    [[1,2,3],\n",
        "     [3,42,5]],\n",
        "    [[4,5,6],\n",
        "     [5,16,7]],\n",
        "    [[96,7,8],\n",
        "    [7,48,9]],],\n",
        "\n",
        " [\n",
        "    [[1,2,3],\n",
        "     [3,42,5]],\n",
        "    [[4,5,6],\n",
        "     [5,16,7]],\n",
        "    [[96,7,8],\n",
        "    [7,48,9]],],\n",
        "])\n",
        "print(tensor_four_d)"
      ],
      "metadata": {
        "colab": {
          "base_uri": "https://localhost:8080/"
        },
        "id": "xDFGnXtJifjC",
        "outputId": "305d4cd5-96bb-43aa-c557-a43f5544c5b8"
      },
      "execution_count": 8,
      "outputs": [
        {
          "output_type": "stream",
          "name": "stdout",
          "text": [
            "tf.Tensor(\n",
            "[[[[ 1  2  3]\n",
            "   [ 3  4  5]]\n",
            "\n",
            "  [[ 4  5  6]\n",
            "   [ 5  6  7]]\n",
            "\n",
            "  [[ 6  7  8]\n",
            "   [ 7  8  9]]]\n",
            "\n",
            "\n",
            " [[[ 1  2  3]\n",
            "   [ 3 42  5]]\n",
            "\n",
            "  [[ 4  5  6]\n",
            "   [ 5 16  7]]\n",
            "\n",
            "  [[96  7  8]\n",
            "   [ 7 48  9]]]\n",
            "\n",
            "\n",
            " [[[ 1  2  3]\n",
            "   [ 3 42  5]]\n",
            "\n",
            "  [[ 4  5  6]\n",
            "   [ 5 16  7]]\n",
            "\n",
            "  [[96  7  8]\n",
            "   [ 7 48  9]]]], shape=(3, 3, 2, 3), dtype=int32)\n"
          ]
        }
      ]
    },
    {
      "cell_type": "code",
      "source": [
        "import numpy as np"
      ],
      "metadata": {
        "id": "n4WLdyyyihFC"
      },
      "execution_count": 9,
      "outputs": []
    },
    {
      "cell_type": "code",
      "source": [
        "np_array=np.array([1,2,3])\n",
        "print (np_array)\n"
      ],
      "metadata": {
        "colab": {
          "base_uri": "https://localhost:8080/"
        },
        "id": "XH5ARGm1inD6",
        "outputId": "f5f15cba-7c8c-4185-d687-810ff692ce74"
      },
      "execution_count": 10,
      "outputs": [
        {
          "output_type": "stream",
          "name": "stdout",
          "text": [
            "[1 2 3]\n"
          ]
        }
      ]
    },
    {
      "cell_type": "code",
      "source": [
        "converted_tensor = tf.convert_to_tensor(np_array)"
      ],
      "metadata": {
        "id": "VP7pH7xiiooa"
      },
      "execution_count": 11,
      "outputs": []
    },
    {
      "cell_type": "code",
      "source": [
        "eye_tensor=tf.eye(\n",
        "    num_rows=3,\n",
        "    num_columns=None,\n",
        "    batch_shape=None,\n",
        "    dtype=tf.dtypes.float32,\n",
        "    name=None\n",
        ")\n",
        "print(eye_tensor)"
      ],
      "metadata": {
        "colab": {
          "base_uri": "https://localhost:8080/"
        },
        "id": "GPFLT7Fliupp",
        "outputId": "0d5c5cc9-be36-433d-edd2-ea67f94533d2"
      },
      "execution_count": 12,
      "outputs": [
        {
          "output_type": "stream",
          "name": "stdout",
          "text": [
            "tf.Tensor(\n",
            "[[1. 0. 0.]\n",
            " [0. 1. 0.]\n",
            " [0. 0. 1.]], shape=(3, 3), dtype=float32)\n"
          ]
        }
      ]
    },
    {
      "cell_type": "code",
      "source": [
        "print(eye_tensor*3)"
      ],
      "metadata": {
        "colab": {
          "base_uri": "https://localhost:8080/"
        },
        "id": "-sIZB0NMiwCh",
        "outputId": "d39e62aa-ee3e-4f53-c06f-8fae8aff32c7"
      },
      "execution_count": 13,
      "outputs": [
        {
          "output_type": "stream",
          "name": "stdout",
          "text": [
            "tf.Tensor(\n",
            "[[3. 0. 0.]\n",
            " [0. 3. 0.]\n",
            " [0. 0. 3.]], shape=(3, 3), dtype=float32)\n"
          ]
        }
      ]
    },
    {
      "cell_type": "code",
      "source": [
        "eye_tensor=tf.eye(\n",
        "    num_rows=3,\n",
        "    num_columns=None,\n",
        "    batch_shape=None,\n",
        "    dtype=tf.dtypes.bool,\n",
        "    name=None\n",
        ")\n",
        "print(eye_tensor)"
      ],
      "metadata": {
        "colab": {
          "base_uri": "https://localhost:8080/"
        },
        "id": "X9GRluWyi07S",
        "outputId": "be650fd0-b570-454d-8b9e-5cfb14cf1c0b"
      },
      "execution_count": 14,
      "outputs": [
        {
          "output_type": "stream",
          "name": "stdout",
          "text": [
            "tf.Tensor(\n",
            "[[ True False False]\n",
            " [False  True False]\n",
            " [False False  True]], shape=(3, 3), dtype=bool)\n"
          ]
        }
      ]
    },
    {
      "cell_type": "code",
      "source": [
        "eye_tensor=tf.eye(\n",
        "    num_rows=5,\n",
        "    num_columns=3,\n",
        "    batch_shape=None,\n",
        "    dtype=tf.dtypes.float32,\n",
        "    name=None\n",
        ")\n",
        "print(eye_tensor)"
      ],
      "metadata": {
        "colab": {
          "base_uri": "https://localhost:8080/"
        },
        "id": "mgFipw45i4Xg",
        "outputId": "95b1454a-7875-49ed-babc-a19a76097888"
      },
      "execution_count": 15,
      "outputs": [
        {
          "output_type": "stream",
          "name": "stdout",
          "text": [
            "tf.Tensor(\n",
            "[[1. 0. 0.]\n",
            " [0. 1. 0.]\n",
            " [0. 0. 1.]\n",
            " [0. 0. 0.]\n",
            " [0. 0. 0.]], shape=(5, 3), dtype=float32)\n"
          ]
        }
      ]
    },
    {
      "cell_type": "code",
      "source": [
        "eye_tensor=tf.eye(\n",
        "    num_rows=5,\n",
        "    num_columns=None,\n",
        "    batch_shape=[3,],\n",
        "    dtype=tf.dtypes.float32,\n",
        "    name=None\n",
        ")\n",
        "print(eye_tensor)"
      ],
      "metadata": {
        "colab": {
          "base_uri": "https://localhost:8080/"
        },
        "id": "040AhWXci5uH",
        "outputId": "52cefaf3-44bf-4dad-ef96-ed7e938af61b"
      },
      "execution_count": 16,
      "outputs": [
        {
          "output_type": "stream",
          "name": "stdout",
          "text": [
            "tf.Tensor(\n",
            "[[[1. 0. 0. 0. 0.]\n",
            "  [0. 1. 0. 0. 0.]\n",
            "  [0. 0. 1. 0. 0.]\n",
            "  [0. 0. 0. 1. 0.]\n",
            "  [0. 0. 0. 0. 1.]]\n",
            "\n",
            " [[1. 0. 0. 0. 0.]\n",
            "  [0. 1. 0. 0. 0.]\n",
            "  [0. 0. 1. 0. 0.]\n",
            "  [0. 0. 0. 1. 0.]\n",
            "  [0. 0. 0. 0. 1.]]\n",
            "\n",
            " [[1. 0. 0. 0. 0.]\n",
            "  [0. 1. 0. 0. 0.]\n",
            "  [0. 0. 1. 0. 0.]\n",
            "  [0. 0. 0. 1. 0.]\n",
            "  [0. 0. 0. 0. 1.]]], shape=(3, 5, 5), dtype=float32)\n"
          ]
        }
      ]
    }
  ],
  "metadata": {
    "colab": {
      "provenance": [],
      "authorship_tag": "ABX9TyMjoMX3SZFvx4Fvvem9oenK",
      "include_colab_link": true
    },
    "kernelspec": {
      "display_name": "Python 3",
      "name": "python3"
    },
    "language_info": {
      "name": "python"
    }
  },
  "nbformat": 4,
  "nbformat_minor": 0
}