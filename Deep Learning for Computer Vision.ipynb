import tensorflow as tf

tensor_zero_d=tf.constant(4)
print(tensor_zero_d)


tensor_one_d=tf.constant([2,-1,5,8,9],dtype=tf.float32)
print(tensor_one_d )


tensor_two_d=tf.constant([
    [2,4,-1],
    [3,10,-9],
    [3,10,-5],
    [1,2,-4]
    ])
print(tensor_two_d)


tensor_three_d=tf.constant([
    [[1,2,3],
     [3,4,5]],
    [[4,5,6],
     [5,6,7]],
    [[6,7,8],
    [7,8,9]],
])
print(tensor_three_d)


print(tensor_three_d.shape)


print(tensor_three_d.ndim)





tensor_four_d = tf.constant([
[
    [[1,2,3],
     [3,4,5]],
    [[4,5,6],
     [5,6,7]],
    [[6,7,8],
    [7,8,9]],],

  [
    [[1,2,3],
     [3,42,5]],
    [[4,5,6],
     [5,16,7]],
    [[96,7,8],
    [7,48,9]],],

 [
    [[1,2,3],
     [3,42,5]],
    [[4,5,6],
     [5,16,7]],
    [[96,7,8],
    [7,48,9]],],
])
print(tensor_four_d)


import numpy as np

np_array=np.array([1,2,3])
print (np_array)


converted_tensor = tf.convert_to_tensor(np_array)


eye_tensor=tf.eye(
    num_rows=3,
    num_columns=None,
    batch_shape=None,
    dtype=tf.dtypes.float32,
    name=None
)
print(eye_tensor)


print(eye_tensor*3)


eye_tensor=tf.eye(
    num_rows=3,
    num_columns=None,
    batch_shape=None,
    dtype=tf.dtypes.bool,
    name=None
)
print(eye_tensor)


eye_tensor=tf.eye(
    num_rows=5,
    num_columns=3,
    batch_shape=None,
    dtype=tf.dtypes.float32,
    name=None
)
print(eye_tensor)



eye_tensor=tf.eye(
    num_rows=5,
    num_columns=None,
    batch_shape=[3,],
    dtype=tf.dtypes.float32,
    name=None
)
print(eye_tensor)




